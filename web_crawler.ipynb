{
 "cells": [
  {
   "cell_type": "code",
   "execution_count": 11,
   "metadata": {},
   "outputs": [],
   "source": [
    "import requests\n",
    "from bs4 import BeautifulSoup\n",
    "import re\n",
    "import time"
   ]
  },
  {
   "cell_type": "code",
   "execution_count": 7,
   "metadata": {},
   "outputs": [],
   "source": [
    "url = 'https://www.cde.ca.gov/ds/si/cs/ap1/countyresults.aspx?id=19'"
   ]
  },
  {
   "cell_type": "code",
   "execution_count": 8,
   "metadata": {},
   "outputs": [
    {
     "name": "stdout",
     "output_type": "stream",
     "text": [
      "['https://www.cde.ca.gov/SchoolDirectory/details?cdscode=19753090132654', 'https://www.cde.ca.gov/SchoolDirectory/details?cdscode=19769680109926', 'https://www.cde.ca.gov/SchoolDirectory/details?cdscode=19647330120097', 'https://www.cde.ca.gov/SchoolDirectory/details?cdscode=19642460126003', 'https://www.cde.ca.gov/SchoolDirectory/details?cdscode=19647330139055']\n"
     ]
    }
   ],
   "source": [
    "response = requests.get(url)\n",
    "soup = BeautifulSoup(response.content, 'html.parser')\n",
    "\n",
    "links = []\n",
    "for link in soup.find_all('a'):\n",
    "    href = link.get('href')\n",
    "    if href and 'cdscode' in href:\n",
    "        links.append(href)\n",
    "\n",
    "print(links[:5])"
   ]
  },
  {
   "cell_type": "code",
   "execution_count": 16,
   "metadata": {},
   "outputs": [
    {
     "name": "stdout",
     "output_type": "stream",
     "text": [
      "0 372 0.0\n",
      "1 372 0.002688172043010753\n",
      "2 372 0.005376344086021506\n",
      "3 372 0.008064516129032258\n",
      "4 372 0.010752688172043012\n",
      "5 372 0.013440860215053764\n",
      "6 372 0.016129032258064516\n",
      "7 372 0.01881720430107527\n",
      "8 372 0.021505376344086023\n"
     ]
    },
    {
     "ename": "KeyboardInterrupt",
     "evalue": "",
     "output_type": "error",
     "traceback": [
      "\u001b[1;31m---------------------------------------------------------------------------\u001b[0m",
      "\u001b[1;31mKeyboardInterrupt\u001b[0m                         Traceback (most recent call last)",
      "Cell \u001b[1;32mIn[16], line 4\u001b[0m\n\u001b[0;32m      2\u001b[0m total \u001b[39m=\u001b[39m \u001b[39mlen\u001b[39m(links)\n\u001b[0;32m      3\u001b[0m \u001b[39mfor\u001b[39;00m index, link \u001b[39min\u001b[39;00m \u001b[39menumerate\u001b[39m(links):\n\u001b[1;32m----> 4\u001b[0m     time\u001b[39m.\u001b[39msleep(\u001b[39m1\u001b[39m)\n\u001b[0;32m      5\u001b[0m     \u001b[39mprint\u001b[39m(index, total, index\u001b[39m/\u001b[39mtotal)\n\u001b[0;32m      6\u001b[0m     response \u001b[39m=\u001b[39m requests\u001b[39m.\u001b[39mget(link)\n",
      "\u001b[1;31mKeyboardInterrupt\u001b[0m: "
     ]
    }
   ],
   "source": [
    "all_emails = []\n",
    "total = len(links)\n",
    "for index, link in enumerate(links):\n",
    "    time.sleep(1)\n",
    "    print(index, total, index/total)\n",
    "    response = requests.get(link)\n",
    "    soup = BeautifulSoup(response.content, 'html.parser')\n",
    "    \n",
    "    #emails = set()\n",
    "    for email in re.findall(r'\\b[A-Za-z0-9._%+-]+@[A-Za-z0-9.-]+\\.[A-Z|a-z]{2,}\\b', str(soup)):\n",
    "        all_emails.append(email)\n",
    "        #emails.add(email)\n",
    "    \n",
    "    #print(emails)\n",
    "    "
   ]
  },
  {
   "cell_type": "code",
   "execution_count": 14,
   "metadata": {},
   "outputs": [],
   "source": [
    "text = ''\n",
    "\n",
    "email_list = list(set(all_emails))\n",
    "email_list.sort()\n",
    "\n",
    "for email in email_list:\n",
    "    text += email + '\\n'\n",
    "    \n",
    "with open('Emails_Los Angeles County Charter Schools.txt','w') as g:\n",
    "    g.write(text)"
   ]
  }
 ],
 "metadata": {
  "kernelspec": {
   "display_name": "Python 3",
   "language": "python",
   "name": "python3"
  },
  "language_info": {
   "codemirror_mode": {
    "name": "ipython",
    "version": 3
   },
   "file_extension": ".py",
   "mimetype": "text/x-python",
   "name": "python",
   "nbconvert_exporter": "python",
   "pygments_lexer": "ipython3",
   "version": "3.11.1"
  },
  "orig_nbformat": 4,
  "vscode": {
   "interpreter": {
    "hash": "8d0b1cc2e4b7251cc5a8b075bcd657cbe905e7b7f723ecb0b5efe5ec4898e796"
   }
  }
 },
 "nbformat": 4,
 "nbformat_minor": 2
}
